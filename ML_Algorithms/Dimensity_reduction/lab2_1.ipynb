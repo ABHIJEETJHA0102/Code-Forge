{
  "cells": [
    {
      "cell_type": "code",
      "execution_count": 1,
      "metadata": {
        "id": "qE-2hIFp7KgY"
      },
      "outputs": [],
      "source": [
        "#importing neccesary libraries\n",
        "import pandas as pd\n",
        "import matplotlib.pyplot as plt\n",
        "import math\n",
        "import numpy as np"
      ]
    },
    {
      "cell_type": "code",
      "execution_count": 2,
      "metadata": {
        "id": "Pxi-a6y468X5"
      },
      "outputs": [
        {
          "name": "stdout",
          "output_type": "stream",
          "text": [
            "     SepalLengthCm  SepalWidthCm  PetalLengthCm  PetalWidthCm         Species\n",
            "0              5.1           3.5            1.4           0.2     Iris-setosa\n",
            "1              4.9           3.0            1.4           0.2     Iris-setosa\n",
            "2              4.7           3.2            1.3           0.2     Iris-setosa\n",
            "3              4.6           3.1            1.5           0.2     Iris-setosa\n",
            "4              5.0           3.6            1.4           0.2     Iris-setosa\n",
            "..             ...           ...            ...           ...             ...\n",
            "145            6.7           3.0            5.2           2.3  Iris-virginica\n",
            "146            6.3           2.5            5.0           1.9  Iris-virginica\n",
            "147            6.5           3.0            5.2           2.0  Iris-virginica\n",
            "148            6.2           3.4            5.4           2.3  Iris-virginica\n",
            "149            5.9           3.0            5.1           1.8  Iris-virginica\n",
            "\n",
            "[150 rows x 5 columns]\n"
          ]
        }
      ],
      "source": [
        "#Reading CSV file \"Iris.csv\"\n",
        "df=pd.read_csv(\"Iris.csv\")\n",
        "print(df)"
      ]
    },
    {
      "cell_type": "code",
      "execution_count": 3,
      "metadata": {
        "id": "itViRlha7mRE"
      },
      "outputs": [],
      "source": [
        "Y=list(df[df.columns[-1]])        #taking last column as target attribute,assigning to Y\n",
        "# print(Y)"
      ]
    },
    {
      "cell_type": "code",
      "execution_count": 4,
      "metadata": {
        "colab": {
          "base_uri": "https://localhost:8080/"
        },
        "id": "9YM_P2z38Svj",
        "outputId": "dddd351a-60d9-466a-f2e7-373e1e1a6d63"
      },
      "outputs": [
        {
          "name": "stdout",
          "output_type": "stream",
          "text": [
            "Outliers:\n",
            "\n",
            "For SepalLengthCm number of outliers: 0\n",
            "For SepalWidthCm number of outliers: 4\n",
            "For PetalLengthCm number of outliers: 0\n",
            "For PetalWidthCm number of outliers: 0\n"
          ]
        }
      ],
      "source": [
        "#Removing outliers\n",
        "column_names = df.columns[0:4]                #Obtaining column names\n",
        "\n",
        "def replace_outliers_with_median(df, column_names):\n",
        "    #alloting details of data to description\n",
        "    description = df.describe()\n",
        "    print('Outliers:\\n')\n",
        "    for col in column_names:\n",
        "        outliers = []\n",
        "        #defining lower and upper quartile\n",
        "        lower_quartile = description[col]['25%']\n",
        "        upper_quartile = description[col]['75%']\n",
        "        #defining IQR range\n",
        "        inter_quartile_range = upper_quartile - lower_quartile\n",
        "        #finding median\n",
        "        median_cal = df[col].median()\n",
        "        #detecting outlier in the data\n",
        "        for i in range(len(df)):\n",
        "            #checking from given condition\n",
        "            if not (lower_quartile - 1.5 * inter_quartile_range < df.loc[i, col] < upper_quartile + 1.5 * inter_quartile_range):\n",
        "                outliers.append(df.loc[i,col])\n",
        "                # Replace the outlier with the median\n",
        "                df.loc[i, col] = median_cal\n",
        "        #printing number of outliers in every column\n",
        "        print(f'For {col}', \"number of outliers:\",len(outliers))\n",
        "    return df\n",
        "#alloting modified data to X\n",
        "x = replace_outliers_with_median(df, column_names)[df.columns[0:4]]"
      ]
    },
    {
      "cell_type": "markdown",
      "metadata": {
        "id": "t7DH5fQRHWg8"
      },
      "source": [
        "Performing PCA"
      ]
    },
    {
      "cell_type": "code",
      "execution_count": 5,
      "metadata": {
        "colab": {
          "base_uri": "https://localhost:8080/"
        },
        "id": "4cLhAV9QHSr5",
        "outputId": "3119e8bc-dc78-4c44-f7bf-a26b59bd9a67"
      },
      "outputs": [
        {
          "name": "stdout",
          "output_type": "stream",
          "text": [
            "[[0.36256147949799217, -0.7102593588503732, -0.5363965021562503, 0.27633242521322776], [-0.06789731937985045, -0.6656572166407149, 0.6715432920981593, -0.3183080752873405], [0.8572697537932992, 0.20451143964215768, 0.06774170716898746, -0.4676266688251427], [0.3592042550366489, 0.10299118484164219, 0.5066749060515402, 0.7769463678955871]]\n",
            "[[-2.6817473  -0.36613367]\n",
            " [-2.72031093  0.10874681]\n",
            " [-2.89212967  0.09721609]\n",
            " [-2.75014213  0.27571004]\n",
            " [-2.72479318 -0.36167346]\n",
            " [-2.271116   -0.7635227 ]\n",
            " [-2.82031788  0.06586085]\n",
            " [-2.62548674 -0.20809087]\n",
            " [-2.89480194  0.53044221]\n",
            " [-2.67729412  0.05233311]\n",
            " [-2.50083134 -0.69189178]\n",
            " [-2.61227206 -0.04558785]\n",
            " [-2.79248751  0.16947363]\n",
            " [-3.23094917  0.46324987]\n",
            " [-2.63335687 -1.23704612]\n",
            " [-2.27269392 -0.4184113 ]\n",
            " [-2.61402391 -0.84532727]\n",
            " [-2.64582687 -0.35583455]\n",
            " [-2.19147825 -0.9203339 ]\n",
            " [-2.58046909 -0.53508057]\n",
            " [-2.3090082  -0.45129232]\n",
            " [-2.53775894 -0.45821573]\n",
            " [-3.21272567 -0.15937429]\n",
            " [-2.30322563 -0.14075144]\n",
            " [-2.35509113  0.01576558]\n",
            " [-2.51260084  0.07862316]\n",
            " [-2.46791891 -0.16704149]\n",
            " [-2.55976417 -0.41670846]\n",
            " [-2.63870142 -0.37059388]\n",
            " [-2.63494874  0.15856953]\n",
            " [-2.59190286  0.15410931]\n",
            " [-2.4086213  -0.47159638]\n",
            " [-2.56173594 -0.09417897]\n",
            " [-2.50277405 -0.31740881]\n",
            " [-2.67729412  0.05233311]\n",
            " [-2.8690882  -0.13631286]\n",
            " [-2.62244968 -0.67068856]\n",
            " [-2.67729412  0.05233311]\n",
            " [-2.98731865  0.44342534]\n",
            " [-2.58923059 -0.27911681]\n",
            " [-2.76781    -0.30525976]\n",
            " [-2.86761395  0.84865858]\n",
            " [-3.00089811  0.3102939 ]\n",
            " [-2.40286779 -0.21300897]\n",
            " [-2.20164077 -0.44297688]\n",
            " [-2.72064666  0.19007186]\n",
            " [-2.53066254 -0.52492855]\n",
            " [-2.84265884  0.18869317]\n",
            " [-2.53708749 -0.62086584]\n",
            " [-2.70442398 -0.16197629]\n",
            " [ 1.287524   -0.71745211]\n",
            " [ 0.93445359 -0.32189967]\n",
            " [ 1.46543196 -0.52865905]\n",
            " [ 0.16878012  0.79357129]\n",
            " [ 1.08359564 -0.10621157]\n",
            " [ 0.63597863  0.42094653]\n",
            " [ 1.09878209 -0.26623805]\n",
            " [-0.76339661  0.97910582]\n",
            " [ 1.04122121 -0.26440147]\n",
            " [-0.0169538   0.73023419]\n",
            " [-0.5964249   0.54958784]\n",
            " [ 0.50957139  0.10500802]\n",
            " [ 0.24908931  0.47410998]\n",
            " [ 0.98158787  0.12147847]\n",
            " [-0.17861003  0.24134645]\n",
            " [ 0.92836436 -0.49916202]\n",
            " [ 0.65798387  0.37943926]\n",
            " [ 0.22835533  0.30378439]\n",
            " [ 0.92983861  0.48580942]\n",
            " [ 0.03388898  0.54836453]\n",
            " [ 1.11811505  0.1254808 ]\n",
            " [ 0.35236835  0.03458707]\n",
            " [ 1.28863347  0.29689089]\n",
            " [ 0.91653675  0.16744596]\n",
            " [ 0.71152798 -0.18370303]\n",
            " [ 0.89889795 -0.36157036]\n",
            " [ 1.32789761 -0.28868621]\n",
            " [ 1.55727723 -0.27899208]\n",
            " [ 0.80979819  0.16190124]\n",
            " [-0.31547294  0.31866918]\n",
            " [-0.08130442  0.66550505]\n",
            " [-0.20295182  0.63475478]\n",
            " [ 0.12874223  0.28348034]\n",
            " [ 1.37365994  0.42803867]\n",
            " [ 0.58547157  0.52149113]\n",
            " [ 0.81176996 -0.16062825]\n",
            " [ 1.22146572 -0.42750947]\n",
            " [ 0.8017372   0.30716838]\n",
            " [ 0.24323512  0.27703645]\n",
            " [ 0.15520065  0.66043985]\n",
            " [ 0.4553984   0.66537958]\n",
            " [ 0.88907116  0.03446161]\n",
            " [ 0.22125894  0.3704972 ]\n",
            " [-0.72035073  0.97464561]\n",
            " [ 0.34933129  0.49718476]\n",
            " [ 0.32929782  0.21616254]\n",
            " [ 0.37200797  0.29302738]\n",
            " [ 0.63901569 -0.04165116]\n",
            " [-0.91893454  0.71943392]\n",
            " [ 0.29307073  0.33914196]\n",
            " [ 2.5365166   0.09231889]\n",
            " [ 1.40890892  0.60098789]\n",
            " [ 2.6175263  -0.33783905]\n",
            " [ 1.96932464  0.20468337]\n",
            " [ 2.35018286  0.07816454]\n",
            " [ 3.39889586 -0.54981072]\n",
            " [ 0.50998034  1.23004766]\n",
            " [ 2.93197495 -0.36241798]\n",
            " [ 2.31296211  0.2277448 ]\n",
            " [ 2.92817971 -0.72616055]\n",
            " [ 1.66467372 -0.21872315]\n",
            " [ 1.79789975  0.21573456]\n",
            " [ 2.16584995 -0.20656582]\n",
            " [ 1.33642568  0.79499325]\n",
            " [ 1.58172131  0.58591776]\n",
            " [ 1.9076328  -0.07589757]\n",
            " [ 1.94932023 -0.02438537]\n",
            " [ 3.50248156 -1.12261217]\n",
            " [ 3.79133272 -0.2726221 ]\n",
            " [ 1.28596119  0.73011701]\n",
            " [ 2.43182144 -0.34922267]\n",
            " [ 1.19407336  0.64587087]\n",
            " [ 3.49853803 -0.47755319]\n",
            " [ 1.38281528  0.19465681]\n",
            " [ 2.28067856 -0.29433476]\n",
            " [ 2.61816868 -0.55244264]\n",
            " [ 1.25404242  0.17866588]\n",
            " [ 1.28993379  0.13701151]\n",
            " [ 2.1201318   0.23112051]\n",
            " [ 2.38845334 -0.48081172]\n",
            " [ 2.8394873  -0.39748136]\n",
            " [ 3.24597208 -1.34661571]\n",
            " [ 2.15605222  0.24141963]\n",
            " [ 1.43971822  0.13809602]\n",
            " [ 1.77349984  0.50523593]\n",
            " [ 3.07835799 -0.70249414]\n",
            " [ 2.15089854 -0.06635053]\n",
            " [ 1.90627435 -0.01992515]\n",
            " [ 1.16795066  0.18758631]\n",
            " [ 2.10958939 -0.36460862]\n",
            " [ 2.31629232 -0.15075711]\n",
            " [ 1.92424932 -0.40536382]\n",
            " [ 1.40890892  0.60098789]\n",
            " [ 2.56701924 -0.23729445]\n",
            " [ 2.42436026 -0.25313829]\n",
            " [ 1.94425373 -0.17629508]\n",
            " [ 1.51804214  0.35853851]\n",
            " [ 1.76398016 -0.06514056]\n",
            " [ 1.90726801 -0.046526  ]\n",
            " [ 1.38887544  0.31996567]]\n"
          ]
        },
        {
          "name": "stderr",
          "output_type": "stream",
          "text": [
            "C:\\Users\\abhij\\AppData\\Local\\Temp\\ipykernel_1796\\1004367027.py:6: SettingWithCopyWarning: \n",
            "A value is trying to be set on a copy of a slice from a DataFrame\n",
            "\n",
            "See the caveats in the documentation: https://pandas.pydata.org/pandas-docs/stable/user_guide/indexing.html#returning-a-view-versus-a-copy\n",
            "  x.loc[j,i]=(x[i][j]-m1)                   #subracting mean from every element of the column\n"
          ]
        },
        {
          "data": {
            "image/png": "[encoded data removed]",
            "text/plain": [
              "<Figure size 640x480 with 1 Axes>"
            ]
          },
          "metadata": {},
          "output_type": "display_data"
        }
      ],
      "source": [
        "x_original=x.copy()\n",
        "#Getting mean subtracted matrix\n",
        "for i in x.columns:\n",
        "  m1=np.mean(x[i])                            #Getting mean of each column\n",
        "  for j in range(len(x)):\n",
        "    x.loc[j,i]=(x[i][j]-m1)                   #subracting mean from every element of the column\n",
        "x_mat=np.asmatrix(x.values)                   #converting dataframe into matrix\n",
        "x_mat_t=np.transpose(x_mat)                   #finding transpose of the matrix\n",
        "c=x_mat_t*x_mat                               #calculating value of C\n",
        "eig_value, eig_vector1=np.linalg.eig(c)       #Performing eigen analysis and finding eigen value and eig vector\n",
        "# \n",
        "# print(eig_value)\n",
        "# print(eig_vector1)\n",
        "select_vector=[list(),list()]\n",
        "eig_vector1=eig_vector1.tolist()\n",
        "print(eig_vector1)\n",
        "for i in range(4):                                  #Selcting two eigen vectors\n",
        "  select_vector[0].append(eig_vector1[i][0])\n",
        "  select_vector[1].append(eig_vector1[i][1])\n",
        "select_vector=np.asmatrix(select_vector)            #converting to matrix\n",
        "x_reduced=x_mat*select_vector.transpose()\n",
        "print(x_reduced)\n",
        "plt.scatter(list(x_reduced[i].tolist()[0][0] for i in range(150)),list(x_reduced[i].tolist()[0][1] for i in range(150)))\n",
        "select_vector=select_vector.tolist()\n",
        "\n",
        "#plotting grapg of eigen vectors\n",
        "plt.quiver(1,0 ,select_vector[0][0],select_vector[0][1],angles='xy', scale_units='xy',color='red', scale=0.15, width=0.01)\n",
        "plt.quiver(1,0, (select_vector[1][0]), (select_vector[1][1]),  angles='xy', scale_units='xy',color='red', scale=1.5, width=0.01)\n",
        "plt.show()"
      ]
    },
    {
      "cell_type": "code",
      "execution_count": 6,
      "metadata": {
        "colab": {
          "base_uri": "https://localhost:8080/"
        },
        "id": "jScFsfGUsNj8",
        "outputId": "ff5612e0-4f7f-4413-d7b8-4ff64863e4b9"
      },
      "outputs": [
        {
          "name": "stdout",
          "output_type": "stream",
          "text": [
            "[[-7.12248402e-01  4.25802973e-01 -2.37385937e+00 -1.00100358e+00]\n",
            " [-1.06351840e+00  1.12313722e-01 -2.30980032e+00 -9.65947300e-01]\n",
            " [-1.11762345e+00  1.31655257e-01 -2.45945349e+00 -1.02885288e+00]\n",
            " [-1.19292124e+00  3.19890144e-03 -2.30122781e+00 -9.59467053e-01]\n",
            " [-7.31023089e-01  4.25756699e-01 -2.40984914e+00 -1.01600648e+00]\n",
            " [-2.81120038e-01  6.62447081e-01 -2.10310818e+00 -8.94430640e-01]\n",
            " [-1.06931691e+00  1.47651275e-01 -2.40430392e+00 -1.00628710e+00]\n",
            " [-8.04101869e-01  3.16780700e-01 -2.29330733e+00 -9.64517533e-01]\n",
            " [-1.42629522e+00 -1.56543393e-01 -2.37314465e+00 -9.85194303e-01]\n",
            " [-1.00785380e+00  1.46945179e-01 -2.28446055e+00 -9.56305589e-01]\n",
            " [-4.15282501e-01  6.30362499e-01 -2.28538685e+00 -9.69568013e-01]\n",
            " [-9.14730023e-01  2.07712154e-01 -2.24874506e+00 -9.43034386e-01]\n",
            " [-1.13281863e+00  7.67910734e-02 -2.35925578e+00 -9.85619105e-01]\n",
            " [-1.50044527e+00 -8.89928340e-02 -2.67505510e+00 -1.11286004e+00]\n",
            " [-7.61301811e-02  1.00224655e+00 -2.51048728e+00 -1.07331784e+00]\n",
            " [-5.26810732e-01  4.32828324e-01 -2.03388166e+00 -8.59454003e-01]\n",
            " [-3.47342769e-01  7.40183415e-01 -2.41380273e+00 -1.02602977e+00]\n",
            " [-7.06540084e-01  4.16508390e-01 -2.34095959e+00 -9.87040093e-01]\n",
            " [-1.40869832e-01  7.61422402e-01 -2.06690683e+00 -8.81974593e-01]\n",
            " [-5.55532707e-01  5.31387179e-01 -2.32158820e+00 -9.82024060e-01]\n",
            " [-5.16622830e-01  4.57181460e-01 -2.07173733e+00 -8.75884700e-01]\n",
            " [-5.94641621e-01  4.77321638e-01 -2.26925434e+00 -9.58765989e-01]\n",
            " [-1.05161349e+00  3.24224106e-01 -2.78676641e+00 -1.17043888e+00]\n",
            " [-7.35090865e-01  2.50075058e-01 -2.00327095e+00 -8.41824605e-01]\n",
            " [-8.65062975e-01  1.49409904e-01 -2.01572415e+00 -8.44335040e-01]\n",
            " [-9.66815113e-01  1.18262787e-01 -2.13789736e+00 -8.94439419e-01]\n",
            " [-7.76129552e-01  2.78757451e-01 -2.14983413e+00 -9.03690775e-01]\n",
            " [-6.32100801e-01  4.51186121e-01 -2.27963005e+00 -9.62395482e-01]\n",
            " [-6.93473715e-01  4.25849247e-01 -2.33786960e+00 -9.86000680e-01]\n",
            " [-1.06795640e+00  7.33530072e-02 -2.22643258e+00 -9.30153537e-01]\n",
            " [-1.04918172e+00  7.33992811e-02 -2.19044281e+00 -9.15150637e-01]\n",
            " [-5.38317561e-01  4.77460460e-01 -2.16128504e+00 -9.13757288e-01]\n",
            " [-8.61895276e-01  2.36625916e-01 -2.21535942e+00 -9.29886054e-01]\n",
            " [-6.81966886e-01  3.81217111e-01 -2.21046622e+00 -9.31697396e-01]\n",
            " [-1.00785380e+00  1.46945179e-01 -2.28446055e+00 -9.56305589e-01]\n",
            " [-9.43403380e-01  2.85541035e-01 -2.48746007e+00 -1.04462771e+00]\n",
            " [-4.74436411e-01  6.24505982e-01 -2.38531028e+00 -1.01107009e+00]\n",
            " [-1.00785380e+00  1.46945179e-01 -2.28446055e+00 -9.56305589e-01]\n",
            " [-1.39803367e+00 -9.23383524e-02 -2.47025237e+00 -1.02738867e+00]\n",
            " [-7.40509951e-01  3.61597932e-01 -2.27675165e+00 -9.58809216e-01]\n",
            " [-7.86687685e-01  3.91125242e-01 -2.43518891e+00 -1.02564819e+00]\n",
            " [-1.64245406e+00 -3.70212407e-01 -2.28475832e+00 -9.42654781e-01]\n",
            " [-1.30839921e+00 -2.79643723e-03 -2.50912053e+00 -1.04597783e+00]\n",
            " [-7.19895686e-01  3.04939242e-01 -2.10346865e+00 -8.85058382e-01]\n",
            " [-4.83601659e-01  4.44356262e-01 -1.97799388e+00 -8.36461445e-01]\n",
            " [-1.12140200e+00  5.82019072e-02 -2.29345622e+00 -9.57692129e-01]\n",
            " [-5.44685342e-01  5.21247679e-01 -2.27681435e+00 -9.63087767e-01]\n",
            " [-1.16465969e+00  6.74039424e-02 -2.39833553e+00 -1.00166142e+00]\n",
            " [-4.78874419e-01  5.85545268e-01 -2.30194254e+00 -9.75276331e-01]\n",
            " [-8.65474783e-01  2.91443826e-01 -2.35154689e+00 -9.88122732e-01]\n",
            " [ 9.76383686e-01  3.90157749e-01  9.57028220e-01  3.88592857e-01]\n",
            " [ 5.67429128e-01  1.50827944e-01  7.35246634e-01  3.02506877e-01]\n",
            " [ 9.06794219e-01  2.52406810e-01  1.14815367e+00  4.71942174e-01]\n",
            " [-5.02448268e-01 -5.39706175e-01  3.06984497e-01  1.42357384e-01]\n",
            " [ 4.68307803e-01 -2.87273839e-03  9.07212286e-01  3.78293309e-01]\n",
            " [-6.83998606e-02 -3.23387341e-01  6.31293625e-01  2.71800012e-01]\n",
            " [ 5.87474124e-01  1.02618920e-01  8.87503922e-01  3.67267029e-01]\n",
            " [-9.72197277e-01 -5.99916273e-01 -4.54198479e-01 -1.73376041e-01]\n",
            " [ 5.65300318e-01  1.05304617e-01  8.38534322e-01  3.46780067e-01]\n",
            " [-5.24802462e-01 -4.84934539e-01  1.34807262e-01  6.91178057e-02]\n",
            " [-6.06590604e-01 -3.25341463e-01 -3.98900025e-01 -1.57635658e-01]\n",
            " [ 1.10168026e-01 -1.04497879e-01  4.58315480e-01  1.93855111e-01]\n",
            " [-2.46430860e-01 -3.32507226e-01  3.10497648e-01  1.38303089e-01]\n",
            " [ 2.69604727e-01 -1.47510207e-01  8.66329326e-01  3.65101750e-01]\n",
            " [-2.36175691e-01 -1.48526864e-01 -1.03758864e-01 -3.93009250e-02]\n",
            " [ 6.91123652e-01  2.69237347e-01  6.93774347e-01  2.82063142e-01]\n",
            " [-3.09406812e-02 -2.97251824e-01  6.41669340e-01  2.75429505e-01]\n",
            " [-1.32972856e-01 -2.17720984e-01  2.57889502e-01  1.13313321e-01]\n",
            " [-7.92702352e-03 -3.86516095e-01  8.96476103e-01  3.84036074e-01]\n",
            " [-3.77194204e-01 -3.67323779e-01  1.41198813e-01  6.86497770e-02]\n",
            " [ 3.16261537e-01 -1.59444213e-01  9.84188474e-01  4.14555100e-01]\n",
            " [ 1.03189400e-01 -4.69479979e-02  3.09148176e-01  1.30134372e-01]\n",
            " [ 2.56339320e-01 -2.85122324e-01  1.16542408e+00  4.93459769e-01]\n",
            " [ 2.13370861e-01 -1.73691998e-01  8.19963846e-01  3.46469357e-01]\n",
            " [ 3.88449434e-01  7.39724042e-02  5.72402048e-01  2.36664087e-01]\n",
            " [ 5.82714502e-01  1.79649158e-01  6.96652748e-01  2.85649408e-01]\n",
            " [ 6.86486606e-01  1.02005373e-01  1.07932682e+00  4.47254337e-01]\n",
            " [ 7.62765468e-01  7.99781400e-02  1.27794959e+00  5.30646881e-01]\n",
            " [ 1.78609761e-01 -1.62753855e-01  7.27326154e-01  3.07557357e-01]\n",
            " [-3.40716102e-01 -1.90704673e-01 -2.05273913e-01 -8.04991045e-02]\n",
            " [-5.02159036e-01 -4.37477884e-01  6.64035781e-02  3.93362609e-02]\n",
            " [-5.24423036e-01 -4.08749218e-01 -4.41698397e-02 -7.52700906e-03]\n",
            " [-1.54667587e-01 -1.97441984e-01  1.68341794e-01  7.54407334e-02]\n",
            " [ 1.94017711e-01 -3.78194854e-01  1.26513592e+00  5.37508703e-01]\n",
            " [-1.58124518e-01 -3.86886287e-01  6.08557974e-01  2.64012870e-01]\n",
            " [ 4.08404236e-01  5.18063498e-02  6.63055518e-01  2.75047930e-01]\n",
            " [ 7.46499017e-01  2.01640514e-01  9.59695037e-01  3.94725976e-01]\n",
            " [ 7.25098091e-02 -2.58904656e-01  7.50124502e-01  3.19623050e-01]\n",
            " [-1.08580046e-01 -2.00926324e-01  2.65175232e-01  1.15903401e-01]\n",
            " [-4.12813805e-01 -4.50164260e-01  2.68116330e-01  1.23768218e-01]\n",
            " [-3.07482160e-01 -4.73835053e-01  5.26477009e-01  2.32109274e-01]\n",
            " [ 2.97866276e-01 -8.33051662e-02  7.69221607e-01  3.22907385e-01]\n",
            " [-1.82929136e-01 -2.61647025e-01  2.65449513e-01  1.17635098e-01]\n",
            " [-9.53422590e-01 -5.99870000e-01 -4.18208713e-01 -1.58373140e-01]\n",
            " [-2.26476058e-01 -3.54673280e-01  4.01151118e-01  1.76686933e-01]\n",
            " [-3.41407627e-02 -1.66248592e-01  3.26504769e-01  1.40548012e-01]\n",
            " [-7.32496769e-02 -2.20314133e-01  3.78838634e-01  1.63806084e-01]\n",
            " [ 2.61265597e-01 -1.56620589e-02  5.39290683e-01  2.25247452e-01]\n",
            " [-8.44154939e-01 -4.16503186e-01 -6.40642324e-01 -2.55989847e-01]\n",
            " [-1.34622591e-01 -2.45651007e-01  3.20599081e-01  1.40200885e-01]\n",
            " [ 8.54072854e-01 -2.33675412e-01  2.19335923e+00  9.20635586e-01]\n",
            " [ 8.39588259e-02 -4.95713066e-01  1.33072390e+00  5.67982533e-01]\n",
            " [ 1.18896755e+00  4.71619830e-02  2.17483417e+00  9.05432140e-01]\n",
            " [ 5.68622976e-01 -2.69960827e-01  1.73010254e+00  7.28470374e-01]\n",
            " [ 7.96568679e-01 -2.11601906e-01  2.03072622e+00  8.52245942e-01]\n",
            " [ 1.62281692e+00  1.35209557e-01  2.80132804e+00  1.16427220e+00]\n",
            " [-6.88753632e-01 -8.53416399e-01  6.88749542e-01  3.09871176e-01]\n",
            " [ 1.32043194e+00  4.21729043e-02  2.43937482e+00  1.01585202e+00]\n",
            " [ 6.76833089e-01 -3.08643898e-01  2.02940888e+00  8.54281540e-01]\n",
            " [ 1.57740750e+00  2.84558461e-01  2.36173176e+00  9.77026474e-01]\n",
            " [ 7.58896729e-01  3.25677593e-02  1.38234304e+00  5.75431326e-01]\n",
            " [ 4.98621701e-01 -2.65677844e-01  1.58540527e+00  6.68032000e-01]\n",
            " [ 9.31969069e-01 -9.55337801e-03  1.81447258e+00  7.56708060e-01]\n",
            " [-8.01149208e-02 -6.19932713e-01  1.30826253e+00  5.61927088e-01]\n",
            " [ 1.57317644e-01 -4.97415024e-01  1.47578872e+00  6.28505390e-01]\n",
            " [ 7.45541128e-01 -7.90013884e-02  1.61983398e+00  6.77413037e-01]\n",
            " [ 7.24068362e-01 -1.16121323e-01  1.66610619e+00  6.97692644e-01]\n",
            " [ 2.06721069e+00  5.09465783e-01  2.77298447e+00  1.14248712e+00]\n",
            " [ 1.56822360e+00 -7.59484585e-02  3.19444053e+00  1.33378517e+00]\n",
            " [-5.23324470e-02 -5.73320975e-01  1.25173292e+00  5.37118349e-01]\n",
            " [ 1.12972345e+00  6.73484356e-02  2.01330693e+00  8.37553751e-01]\n",
            " [-2.58108271e-02 -5.11002988e-01  1.15573096e+00  4.95435239e-01]\n",
            " [ 1.60762174e+00  8.03453730e-02  2.90152574e+00  1.20750598e+00]\n",
            " [ 3.63098735e-01 -2.23464159e-01  1.22525526e+00  5.16761067e-01]\n",
            " [ 1.03594021e+00  4.10740965e-02  1.89496192e+00  7.88915557e-01]\n",
            " [ 1.34162467e+00  1.89970796e-01  2.13149598e+00  8.83560608e-01]\n",
            " [ 3.27768366e-01 -2.04076349e-01  1.11159186e+00  4.68858385e-01]\n",
            " [ 3.70366593e-01 -1.78785749e-01  1.13384164e+00  4.77460683e-01]\n",
            " [ 6.04522615e-01 -2.97798303e-01  1.86479165e+00  7.85363739e-01]\n",
            " [ 1.20746220e+00  1.57886214e-01  1.94921731e+00  8.08423235e-01]\n",
            " [ 1.31180358e+00  7.17927619e-02  2.35291710e+00  9.79018845e-01]\n",
            " [ 2.13331085e+00  6.75991662e-01  2.50727537e+00  1.02727743e+00]\n",
            " [ 6.10230932e-01 -3.07092886e-01  1.89769144e+00  7.99327227e-01]\n",
            " [ 4.23902380e-01 -1.89677618e-01  1.26246910e+00  5.31375584e-01]\n",
            " [ 2.84154176e-01 -4.56729831e-01  1.62369430e+00  6.89083537e-01]\n",
            " [ 1.61504706e+00  2.58608039e-01  2.49531511e+00  1.03340858e+00]\n",
            " [ 8.26959038e-01 -1.01873538e-01  1.83033082e+00  7.65778387e-01]\n",
            " [ 7.05293675e-01 -1.16167597e-01  1.63011642e+00  6.82689743e-01]\n",
            " [ 2.90218992e-01 -2.04168897e-01  1.03961232e+00  4.38852584e-01]\n",
            " [ 1.02382254e+00  9.94688945e-02  1.73392055e+00  7.20222012e-01]\n",
            " [ 9.46875017e-01 -5.69174848e-02  1.95485580e+00  8.16495406e-01]\n",
            " [ 9.85572123e-01  1.39181978e-01  1.56669920e+00  6.49449643e-01]\n",
            " [ 8.39588259e-02 -4.95713066e-01  1.33072390e+00  5.67982533e-01]\n",
            " [ 1.09924290e+00 -1.63369627e-02  2.15209852e+00  8.97644998e-01]\n",
            " [ 1.05877348e+00  3.89576389e-03  2.02656105e+00  8.44769510e-01]\n",
            " [ 8.30126737e-01 -1.46575257e-02  1.63069556e+00  6.80227373e-01]\n",
            " [ 2.95728272e-01 -3.41734740e-01  1.37469684e+00  5.82213504e-01]\n",
            " [ 6.85817949e-01 -7.64082393e-02  1.49888484e+00  6.26920274e-01]\n",
            " [ 7.24547437e-01 -9.85280197e-02  1.62552808e+00  6.80307018e-01]\n",
            " [ 2.76294122e-01 -3.07288379e-01  1.25607755e+00  5.31843612e-01]]\n"
          ]
        }
      ],
      "source": [
        "x_reconstructed=x_reduced*select_vector        #Reconstructing the original data from reduced data\n",
        "print(x_reconstructed)"
      ]
    },
    {
      "cell_type": "code",
      "execution_count": 7,
      "metadata": {
        "colab": {
          "base_uri": "https://localhost:8080/"
        },
        "id": "IfGqfdl7gYyS",
        "outputId": "82ad9c75-42b4-465b-95f9-6d00c312c6a2"
      },
      "outputs": [
        {
          "name": "stdout",
          "output_type": "stream",
          "text": [
            "     SepalLengthCm  SepalWidthCm  PetalLengthCm  PetalWidthCm\n",
            "0         5.131085      3.461803       1.384807      0.197663\n",
            "1         4.779815      3.148314       1.448866      0.232719\n",
            "2         4.725710      3.167655       1.299213      0.169814\n",
            "3         4.650412      3.039199       1.457439      0.239200\n",
            "4         5.112310      3.461757       1.348818      0.182660\n",
            "..             ...           ...            ...           ...\n",
            "145       6.673460      3.021342       5.389362      1.878894\n",
            "146       6.139062      2.694265       5.133364      1.780880\n",
            "147       6.529151      2.959592       5.257552      1.825587\n",
            "148       6.567881      2.937472       5.384195      1.878974\n",
            "149       6.119627      2.728712       5.014744      1.730510\n",
            "\n",
            "[150 rows x 4 columns]\n"
          ]
        }
      ],
      "source": [
        "df2=pd.DataFrame(x_reconstructed)                   #converting to dataframe\n",
        "df2.columns=x.columns\n",
        "for i in x.columns:\n",
        "  m1=np.mean(x_original[i])                         #Getting mean of each column\n",
        "  for j in range(len(x)):\n",
        "    df2.loc[j,i]=(df2[i][j]+m1)                     #adding mean from every element of the column\n",
        "print(df2)"
      ]
    },
    {
      "cell_type": "code",
      "execution_count": 8,
      "metadata": {
        "colab": {
          "base_uri": "https://localhost:8080/"
        },
        "id": "-HC5vzeqeuH_",
        "outputId": "28c6bde6-9280-4f4b-f15f-bb214124169e"
      },
      "outputs": [
        {
          "name": "stdout",
          "output_type": "stream",
          "text": [
            "[0.1589629858489278, 0.1978567102177245, 0.07643589847170444, 0.18958302357254295]\n"
          ]
        }
      ],
      "source": [
        "rmse_list=list()                                                   #Calculting rmse difference between original and recreated data\n",
        "\n",
        "for i in x.columns:\n",
        "  d1=list(x_original[i])\n",
        "  d2=list(df2[i])\n",
        "  rmse=0\n",
        "  for j in range(150):\n",
        "    if d1[j]!=d2[j]:\n",
        "      rmse+=(d1[j]-d2[j])**2                                       #summing up the square of difference for every element of the column\n",
        "  rmse=rmse/len(d1)                                                #dividing the value by n\n",
        "  rmse=math.sqrt(rmse)                                             #operating square root \n",
        "  rmse_list.append(rmse)\n",
        "print(rmse_list)"
      ]
    }
  ],
  "metadata": {
    "colab": {
      "provenance": []
    },
    "kernelspec": {
      "display_name": "Python 3",
      "name": "python3"
    },
    "language_info": {
      "codemirror_mode": {
        "name": "ipython",
        "version": 3
      },
      "file_extension": ".py",
      "mimetype": "text/x-python",
      "name": "python",
      "nbconvert_exporter": "python",
      "pygments_lexer": "ipython3",
      "version": "3.11.0"
    }
  },
  "nbformat": 4,
  "nbformat_minor": 0
}
